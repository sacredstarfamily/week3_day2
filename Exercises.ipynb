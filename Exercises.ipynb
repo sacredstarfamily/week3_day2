{
 "cells": [
  {
   "cell_type": "markdown",
   "metadata": {},
   "source": [
    "#### Exercise 1 - Class Inheritance"
   ]
  },
  {
   "cell_type": "markdown",
   "metadata": {},
   "source": [
    "Create an Employee class that sets an employee's first name, last name, job title, salary, and email. The Employee class should have a class attribute for the raise amount set to 5% (1.05). Create a method that will apply the raise to an employee's salary."
   ]
  },
  {
   "cell_type": "code",
   "execution_count": 1,
   "metadata": {},
   "outputs": [],
   "source": [
    "# Write the Employee Parent Class Here\n",
    "class Employee:\n",
    "    raise_amount = 1.05\n",
    "    \n",
    "    def __init__(self, first_name, last_name, job_title, salary, email):\n",
    "        self.first_name = first_name\n",
    "        self.last_name = last_name\n",
    "        self.job_title = job_title\n",
    "        self.salary = salary\n",
    "        self.email = email\n",
    "    \n",
    "    def apply_raise(self):\n",
    "        self.salary *= self.raise_amount\n"
   ]
  },
  {
   "cell_type": "markdown",
   "metadata": {},
   "source": [
    "Create two more classes that inherit from the Employee class. One for Sales and one for Development. Both of these classes will have the same attributes as the Employee.<br>\n",
    "- For the Sales employees, add a phone number attribute on instantiation using the super method. \n",
    "- Create a method on the Sales class that will \"Send a Follow Up Email\". It should take in a customer name and \"send\" aka print a formatted email \"Dear *customer*, Thank you for your interest in our product. Please let me know if you have any questions. My email is *email* or my phone number is *phone number*. Thanks, *full name*\"\n",
    "- Create a method on the Development class called code that will print out \"*full name* is writing code\"."
   ]
  },
  {
   "cell_type": "code",
   "execution_count": 2,
   "metadata": {},
   "outputs": [],
   "source": [
    "# Write the Sales child Class Here\n",
    "\n",
    "class Sales(Employee):\n",
    "    def __init__(self, first_name, last_name, job_title, salary, email, phone_number):\n",
    "        super().__init__(first_name, last_name, job_title, salary, email)\n",
    "        self.phone_number = phone_number\n",
    "    \n",
    "    def send_follow_up_email(self, customer_name):\n",
    "        print(f\"Dear {customer_name}, Thank you for your interest in our product. Please let me know if you have any questions. My email is {self.email} or my phone number is {self.phone_number}. Thanks, {self.first_name} {self.last_name}\")\n",
    "\n",
    "\n",
    "\n",
    "\n"
   ]
  },
  {
   "cell_type": "code",
   "execution_count": 3,
   "metadata": {},
   "outputs": [],
   "source": [
    "# Write the Development child Class Here\n",
    "class Development(Employee):\n",
    "    def code(self):\n",
    "        print(f\"{self.first_name} {self.last_name} is writing code\")\n",
    "\n"
   ]
  },
  {
   "cell_type": "markdown",
   "metadata": {},
   "source": [
    "- Create an instance of a Sales Employee with a salary of $50,000.\n",
    "- Send follow up emails to \"Mike O'Neil\" and \"Hannah Stern\"\n",
    "- Give the employee a raise and print the salary"
   ]
  },
  {
   "cell_type": "code",
   "execution_count": 4,
   "metadata": {},
   "outputs": [
    {
     "name": "stdout",
     "output_type": "stream",
     "text": [
      "Dear Mike O'Neil, Thank you for your interest in our product. Please let me know if you have any questions. My email is john.doe@example.com or my phone number is 123-456-7890. Thanks, John Doe\n",
      "Dear Hannah Stern, Thank you for your interest in our product. Please let me know if you have any questions. My email is john.doe@example.com or my phone number is 123-456-7890. Thanks, John Doe\n",
      "52500.0\n"
     ]
    }
   ],
   "source": [
    "# Create the instance\n",
    "# Create an instance of a Sales Employee with a salary of $50,000\n",
    "sales_employee = Sales(\"John\", \"Doe\", \"Sales Representative\", 50000, \"john.doe@example.com\", \"123-456-7890\")\n",
    "\n",
    "# Send follow-up emails\n",
    "sales_employee.send_follow_up_email(\"Mike O'Neil\")\n",
    "sales_employee.send_follow_up_email(\"Hannah Stern\")\n",
    "\n",
    "# Give the employee a raise and print the salary\n",
    "sales_employee.apply_raise()\n",
    "print(sales_employee.salary)\n"
   ]
  },
  {
   "cell_type": "code",
   "execution_count": null,
   "metadata": {},
   "outputs": [],
   "source": [
    "# Send follow up to Mike\n",
    "sales_employee.send_follow_up_email(\"Mike\")\n"
   ]
  },
  {
   "cell_type": "code",
   "execution_count": null,
   "metadata": {},
   "outputs": [],
   "source": [
    "# Send follow up to Hannah\n",
    "sales_employee.send_follow_up_email(\"Hannah\")\n"
   ]
  },
  {
   "cell_type": "code",
   "execution_count": null,
   "metadata": {},
   "outputs": [],
   "source": [
    "# Give the sales employee a raise\n",
    "sales_employee.apply_raise()\n"
   ]
  },
  {
   "cell_type": "markdown",
   "metadata": {},
   "source": [
    "- Create an instance of a Development Employee with a salary of $100,000\n",
    "- Write some code with this employee\n",
    "- Give the employee a raise and print the salary"
   ]
  },
  {
   "cell_type": "code",
   "execution_count": 5,
   "metadata": {},
   "outputs": [
    {
     "name": "stdout",
     "output_type": "stream",
     "text": [
      "Jane Smith is writing code\n",
      "105000.0\n"
     ]
    }
   ],
   "source": [
    "# Create the instance\n",
    "\n",
    "\n",
    "# Create an instance of a Development Employee with a salary of $100,000\n",
    "development_employee = Development(\"Jane\", \"Smith\", \"Software Developer\", 100000, \"jane.smith@example.com\")\n",
    "\n",
    "# Write some code with this employee\n",
    "development_employee.code()\n",
    "\n",
    "# Give the employee a raise and print the salary\n",
    "development_employee.apply_raise()\n",
    "print(development_employee.salary)\n",
    "\n",
    "\n"
   ]
  },
  {
   "cell_type": "code",
   "execution_count": null,
   "metadata": {},
   "outputs": [],
   "source": [
    "# Write some code (call code method)"
   ]
  },
  {
   "cell_type": "code",
   "execution_count": 6,
   "metadata": {},
   "outputs": [],
   "source": [
    "# Give the dev employee a raise\n",
    "development_employee.apply_raise()\n"
   ]
  },
  {
   "cell_type": "markdown",
   "metadata": {},
   "source": [
    "#### Exercise 2 - Importing Modules"
   ]
  },
  {
   "cell_type": "markdown",
   "metadata": {},
   "source": [
    "In VS Code, create a module titled `geometry` and add two functions in there. One that will calculate the area of a circle given a radius. The second will find the hypotenuse of a right angle given the two sides. Import the module or the functions from the module and use it to find the answers to the below questions"
   ]
  },
  {
   "cell_type": "markdown",
   "metadata": {},
   "source": [
    "What is the area of a circle with a radius of 7cm?"
   ]
  },
  {
   "cell_type": "code",
   "execution_count": 7,
   "metadata": {},
   "outputs": [
    {
     "name": "stdout",
     "output_type": "stream",
     "text": [
      "153.93804002589985\n"
     ]
    }
   ],
   "source": [
    "import math\n",
    "# ~153.94\n",
    "def calculate_circle_area(radius):\n",
    "    return math.pi * radius**2\n",
    "\n",
    "def calculate_hypotenuse(side1, side2):\n",
    "    return math.sqrt(side1**2 + side2**2)\n",
    "\n",
    "radius = 7\n",
    "area = calculate_circle_area(radius)\n",
    "print(area)\n"
   ]
  },
  {
   "cell_type": "markdown",
   "metadata": {},
   "source": [
    "What is the hypotenuse of a right angle with sides of 3in and 4in?"
   ]
  },
  {
   "cell_type": "code",
   "execution_count": 8,
   "metadata": {},
   "outputs": [
    {
     "name": "stdout",
     "output_type": "stream",
     "text": [
      "5.0\n"
     ]
    }
   ],
   "source": [
    "# 5 inches\n",
    "side1 = 3\n",
    "side2 = 4\n",
    "hypotenuse = calculate_hypotenuse(side1, side2)\n",
    "print(hypotenuse)\n"
   ]
  }
 ],
 "metadata": {
  "kernelspec": {
   "display_name": "Python 3 (ipykernel)",
   "language": "python",
   "name": "python3"
  },
  "language_info": {
   "codemirror_mode": {
    "name": "ipython",
    "version": 3
   },
   "file_extension": ".py",
   "mimetype": "text/x-python",
   "name": "python",
   "nbconvert_exporter": "python",
   "pygments_lexer": "ipython3",
   "version": "3.9.6"
  }
 },
 "nbformat": 4,
 "nbformat_minor": 4
}
